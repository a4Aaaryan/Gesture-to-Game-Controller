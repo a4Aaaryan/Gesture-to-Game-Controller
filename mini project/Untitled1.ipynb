{
 "cells": [
  {
   "cell_type": "code",
   "execution_count": 1,
   "id": "a5ef8491",
   "metadata": {},
   "outputs": [
    {
     "name": "stdout",
     "output_type": "stream",
     "text": [
      "Untitled1 - Google Chrome\n",
      "Need for Speed™ Most Wanted\n",
      "LenovoWidget\n",
      "Realtek Audio Console\n",
      "Realtek Audio Console\n",
      "3D-Platformer-master\n",
      "Settings\n",
      "Settings\n",
      "Deep Learning (CSL 6036) [Autosaved] - PowerPoint\n",
      "Inbox - Outlook ‎- Mail\n",
      "Mail\n",
      "Stream Bhool Bhulaiyaa (2007) Online Free Watch Full Now HD - HydraHD - Google Chrome\n",
      "Administrator: Anaconda Prompt (anaconda3) - jupyter  notebook\n",
      "NPTEL :: Computer Science and Engineering - NOC:Introduction to internet of things - Google Chrome\n",
      "(27) Gojo Satoru - Starboy [Edit/AMV]! - YouTube - Google Chrome\n",
      "Need for Speed - Most Wanted [FitGirl Repack]\n",
      "Program Manager\n"
     ]
    }
   ],
   "source": [
    "import win32gui\n",
    "\n",
    "def get_window_titles():\n",
    "    def callback(hwnd, titles):\n",
    "        if win32gui.IsWindowVisible(hwnd):\n",
    "            title = win32gui.GetWindowText(hwnd)\n",
    "            if title:\n",
    "                titles.append(title)\n",
    "\n",
    "    titles = []\n",
    "    win32gui.EnumWindows(callback, titles)\n",
    "    return titles\n",
    "\n",
    "# Example usage:\n",
    "window_titles = get_window_titles()\n",
    "for title in window_titles:\n",
    "    print(title)"
   ]
  },
  {
   "cell_type": "code",
   "execution_count": null,
   "id": "074cdb1e",
   "metadata": {},
   "outputs": [],
   "source": [
    "Cemu 1.22.7 - FPS: 57.54 [OpenGL] [NVIDIA GPU] [TitleId: 00050000-101c9500] Breath of the Wild [EU v208]"
   ]
  },
  {
   "cell_type": "code",
   "execution_count": 9,
   "id": "0f21844b",
   "metadata": {},
   "outputs": [],
   "source": [
    "import win32gui\n",
    "\n",
    "def set_foreground_window(window_title):\n",
    "    hwnd = win32gui.FindWindow(None, window_title)\n",
    "    if hwnd:\n",
    "        win32gui.SetForegroundWindow(hwnd)\n",
    "    else:\n",
    "        print(\"Window not found.\")\n",
    "\n",
    "# Example usage:\n",
    "set_foreground_window(\"Devil May Cry 5\")"
   ]
  },
  {
   "cell_type": "code",
   "execution_count": null,
   "id": "def3c2e6",
   "metadata": {},
   "outputs": [],
   "source": []
  }
 ],
 "metadata": {
  "kernelspec": {
   "display_name": "Python 3 (ipykernel)",
   "language": "python",
   "name": "python3"
  },
  "language_info": {
   "codemirror_mode": {
    "name": "ipython",
    "version": 3
   },
   "file_extension": ".py",
   "mimetype": "text/x-python",
   "name": "python",
   "nbconvert_exporter": "python",
   "pygments_lexer": "ipython3",
   "version": "3.9.19"
  }
 },
 "nbformat": 4,
 "nbformat_minor": 5
}
