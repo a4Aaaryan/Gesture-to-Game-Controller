{
 "cells": [
  {
   "cell_type": "code",
   "execution_count": null,
   "id": "4868c553",
   "metadata": {},
   "outputs": [],
   "source": []
  },
  {
   "cell_type": "code",
   "execution_count": null,
   "id": "66fc39bf",
   "metadata": {},
   "outputs": [],
   "source": []
  },
  {
   "cell_type": "code",
   "execution_count": null,
   "id": "89129747",
   "metadata": {},
   "outputs": [],
   "source": []
  },
  {
   "cell_type": "code",
   "execution_count": null,
   "id": "01910966",
   "metadata": {},
   "outputs": [],
   "source": []
  },
  {
   "cell_type": "code",
   "execution_count": null,
   "id": "d00f907d",
   "metadata": {},
   "outputs": [],
   "source": []
  },
  {
   "cell_type": "code",
   "execution_count": null,
   "id": "ffe870f4",
   "metadata": {},
   "outputs": [],
   "source": []
  },
  {
   "cell_type": "code",
   "execution_count": 2,
   "id": "f65ac60a",
   "metadata": {},
   "outputs": [
    {
     "name": "stdout",
     "output_type": "stream",
     "text": [
      "Collecting PySide6\n",
      "  Downloading PySide6-6.7.0-cp39-abi3-win_amd64.whl (533 kB)\n",
      "     -------------------------------------- 533.1/533.1 kB 2.0 MB/s eta 0:00:00\n",
      "Collecting PySide6-Essentials==6.7.0\n",
      "  Downloading PySide6_Essentials-6.7.0-cp39-abi3-win_amd64.whl (78.7 MB)\n",
      "     ---------------------------------------- 78.7/78.7 MB 2.3 MB/s eta 0:00:00\n",
      "Collecting shiboken6==6.7.0\n",
      "  Downloading shiboken6-6.7.0-cp39-abi3-win_amd64.whl (1.1 MB)\n",
      "     ---------------------------------------- 1.1/1.1 MB 2.5 MB/s eta 0:00:00\n",
      "Collecting PySide6-Addons==6.7.0\n",
      "  Downloading PySide6_Addons-6.7.0-cp39-abi3-win_amd64.whl (122.7 MB)\n",
      "     -------------------------------------- 122.7/122.7 MB 2.2 MB/s eta 0:00:00\n",
      "Installing collected packages: shiboken6, PySide6-Essentials, PySide6-Addons, PySide6\n",
      "Successfully installed PySide6-6.7.0 PySide6-Addons-6.7.0 PySide6-Essentials-6.7.0 shiboken6-6.7.0\n"
     ]
    }
   ],
   "source": [
    "!pip install PySide6"
   ]
  },
  {
   "cell_type": "code",
   "execution_count": 4,
   "id": "3b3b01c9",
   "metadata": {},
   "outputs": [
    {
     "name": "stdout",
     "output_type": "stream",
     "text": [
      "Collecting pynput\n",
      "  Downloading pynput-1.7.6-py2.py3-none-any.whl (89 kB)\n",
      "     -------------------------------------- 89.2/89.2 kB 840.2 kB/s eta 0:00:00\n",
      "Requirement already satisfied: six in c:\\users\\ashut\\anaconda3\\lib\\site-packages (from pynput) (1.16.0)\n",
      "Installing collected packages: pynput\n",
      "Successfully installed pynput-1.7.6\n"
     ]
    }
   ],
   "source": [
    "!pip install pynput"
   ]
  },
  {
   "cell_type": "code",
   "execution_count": 6,
   "id": "34f24e50",
   "metadata": {},
   "outputs": [
    {
     "name": "stdout",
     "output_type": "stream",
     "text": [
      "Collecting mediapipe\n",
      "  Downloading mediapipe-0.10.11-cp39-cp39-win_amd64.whl (50.8 MB)\n",
      "     ---------------------------------------- 50.8/50.8 MB 2.4 MB/s eta 0:00:00\n",
      "Requirement already satisfied: jax in c:\\users\\ashut\\anaconda3\\lib\\site-packages (from mediapipe) (0.4.14)\n",
      "Collecting flatbuffers>=2.0\n",
      "  Downloading flatbuffers-24.3.25-py2.py3-none-any.whl (26 kB)\n",
      "Requirement already satisfied: protobuf<4,>=3.11 in c:\\users\\ashut\\anaconda3\\lib\\site-packages (from mediapipe) (3.20.3)\n",
      "Requirement already satisfied: attrs>=19.1.0 in c:\\users\\ashut\\anaconda3\\lib\\site-packages (from mediapipe) (21.4.0)\n",
      "Requirement already satisfied: numpy in c:\\users\\ashut\\anaconda3\\lib\\site-packages (from mediapipe) (1.24.4)\n",
      "Requirement already satisfied: absl-py in c:\\users\\ashut\\anaconda3\\lib\\site-packages (from mediapipe) (1.3.0)\n",
      "Requirement already satisfied: matplotlib in c:\\users\\ashut\\anaconda3\\lib\\site-packages (from mediapipe) (3.5.2)\n",
      "Collecting sounddevice>=0.4.4\n",
      "  Downloading sounddevice-0.4.6-py3-none-win_amd64.whl (199 kB)\n",
      "     -------------------------------------- 199.7/199.7 kB 3.0 MB/s eta 0:00:00\n",
      "Requirement already satisfied: opencv-contrib-python in c:\\users\\ashut\\anaconda3\\lib\\site-packages (from mediapipe) (4.7.0.72)\n",
      "Requirement already satisfied: CFFI>=1.0 in c:\\users\\ashut\\anaconda3\\lib\\site-packages (from sounddevice>=0.4.4->mediapipe) (1.15.1)\n",
      "Requirement already satisfied: importlib-metadata>=4.6 in c:\\users\\ashut\\anaconda3\\lib\\site-packages (from jax->mediapipe) (4.11.3)\n",
      "Requirement already satisfied: opt-einsum in c:\\users\\ashut\\anaconda3\\lib\\site-packages (from jax->mediapipe) (3.3.0)\n",
      "Requirement already satisfied: ml-dtypes>=0.2.0 in c:\\users\\ashut\\anaconda3\\lib\\site-packages (from jax->mediapipe) (0.2.0)\n",
      "Requirement already satisfied: scipy>=1.7 in c:\\users\\ashut\\anaconda3\\lib\\site-packages (from jax->mediapipe) (1.9.1)\n",
      "Requirement already satisfied: packaging>=20.0 in c:\\users\\ashut\\anaconda3\\lib\\site-packages (from matplotlib->mediapipe) (21.3)\n",
      "Requirement already satisfied: fonttools>=4.22.0 in c:\\users\\ashut\\anaconda3\\lib\\site-packages (from matplotlib->mediapipe) (4.25.0)\n",
      "Requirement already satisfied: pillow>=6.2.0 in c:\\users\\ashut\\anaconda3\\lib\\site-packages (from matplotlib->mediapipe) (9.2.0)\n",
      "Requirement already satisfied: pyparsing>=2.2.1 in c:\\users\\ashut\\anaconda3\\lib\\site-packages (from matplotlib->mediapipe) (3.0.9)\n",
      "Requirement already satisfied: kiwisolver>=1.0.1 in c:\\users\\ashut\\anaconda3\\lib\\site-packages (from matplotlib->mediapipe) (1.4.2)\n",
      "Requirement already satisfied: cycler>=0.10 in c:\\users\\ashut\\anaconda3\\lib\\site-packages (from matplotlib->mediapipe) (0.11.0)\n",
      "Requirement already satisfied: python-dateutil>=2.7 in c:\\users\\ashut\\anaconda3\\lib\\site-packages (from matplotlib->mediapipe) (2.8.2)\n",
      "Requirement already satisfied: pycparser in c:\\users\\ashut\\anaconda3\\lib\\site-packages (from CFFI>=1.0->sounddevice>=0.4.4->mediapipe) (2.21)\n",
      "Requirement already satisfied: zipp>=0.5 in c:\\users\\ashut\\anaconda3\\lib\\site-packages (from importlib-metadata>=4.6->jax->mediapipe) (3.8.0)\n",
      "Requirement already satisfied: six>=1.5 in c:\\users\\ashut\\anaconda3\\lib\\site-packages (from python-dateutil>=2.7->matplotlib->mediapipe) (1.16.0)\n",
      "Installing collected packages: flatbuffers, sounddevice, mediapipe\n",
      "  Attempting uninstall: flatbuffers\n",
      "    Found existing installation: flatbuffers 1.12\n",
      "    Uninstalling flatbuffers-1.12:\n",
      "      Successfully uninstalled flatbuffers-1.12\n",
      "Successfully installed flatbuffers-24.3.25 mediapipe-0.10.11 sounddevice-0.4.6\n"
     ]
    },
    {
     "name": "stderr",
     "output_type": "stream",
     "text": [
      "ERROR: pip's dependency resolver does not currently take into account all the packages that are installed. This behaviour is the source of the following dependency conflicts.\n",
      "tensorflow 2.9.0 requires flatbuffers<2,>=1.12, but you have flatbuffers 24.3.25 which is incompatible.\n"
     ]
    }
   ],
   "source": [
    "!pip install mediapipe"
   ]
  },
  {
   "cell_type": "code",
   "execution_count": null,
   "id": "41d8a161",
   "metadata": {},
   "outputs": [],
   "source": []
  }
 ],
 "metadata": {
  "kernelspec": {
   "display_name": "Python 3 (ipykernel)",
   "language": "python",
   "name": "python3"
  },
  "language_info": {
   "codemirror_mode": {
    "name": "ipython",
    "version": 3
   },
   "file_extension": ".py",
   "mimetype": "text/x-python",
   "name": "python",
   "nbconvert_exporter": "python",
   "pygments_lexer": "ipython3",
   "version": "3.9.13"
  }
 },
 "nbformat": 4,
 "nbformat_minor": 5
}
